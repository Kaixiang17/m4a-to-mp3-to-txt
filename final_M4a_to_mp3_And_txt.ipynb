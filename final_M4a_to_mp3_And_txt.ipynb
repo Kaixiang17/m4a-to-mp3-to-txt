{
  "cells": [
    {
      "cell_type": "markdown",
      "metadata": {
        "id": "view-in-github",
        "colab_type": "text"
      },
      "source": [
        "<a href=\"https://colab.research.google.com/github/Kaixiang17/m4a-to-mp3-to-txt/blob/main/final_M4a_to_mp3_And_txt.ipynb\" target=\"_parent\"><img src=\"https://colab.research.google.com/assets/colab-badge.svg\" alt=\"Open In Colab\"/></a>"
      ]
    },
    {
      "cell_type": "markdown",
      "metadata": {
        "id": "_flQLgo7QXTg"
      },
      "source": [
        "以下為M4a 轉 mp3"
      ]
    },
    {
      "cell_type": "code",
      "execution_count": null,
      "metadata": {
        "id": "vlelU7IAQc_3"
      },
      "outputs": [],
      "source": [
        "!pip install pydub\n"
      ]
    },
    {
      "cell_type": "code",
      "execution_count": null,
      "metadata": {
        "id": "MXy0UHEpQf__"
      },
      "outputs": [],
      "source": [
        "from google.colab import files\n",
        "from pydub import AudioSegment\n",
        "\n",
        "# 上傳檔案\n",
        "uploaded = files.upload()\n",
        "\n",
        "# 定義轉換函式\n",
        "def convert_m4a_to_mp3(input_file, output_file):\n",
        "    sound = AudioSegment.from_file(input_file)\n",
        "    sound.export(output_file, format=\"mp3\")\n",
        "    print(f\"已將 {input_file} 轉換為 {output_file}\")\n",
        "\n",
        "# 將上傳的檔案儲存到Colab工作目錄中\n",
        "for filename in uploaded.keys():\n",
        "    input_file = filename\n",
        "    output_file = f\"{filename.split('.')[0]}.mp3\"\n",
        "    convert_m4a_to_mp3(input_file, output_file)\n",
        "\n",
        "\n"
      ]
    },
    {
      "cell_type": "markdown",
      "metadata": {
        "id": "GqAvKQXeNMJ1"
      },
      "source": [
        "以下為 音檔轉成文字檔\n",
        "\n"
      ]
    },
    {
      "cell_type": "code",
      "execution_count": null,
      "metadata": {
        "id": "3mNQH7JeFWfA"
      },
      "outputs": [],
      "source": [
        "!pip install git+https://github.com/openai/whisper.git\n",
        "!sudo apt update && sudo apt install ffmpeg"
      ]
    },
    {
      "cell_type": "code",
      "execution_count": null,
      "metadata": {
        "id": "OmGf_mM_FSNO"
      },
      "outputs": [],
      "source": [
        "!whisper \"/content/.mp3\" --language Chinese --model large-v3\n"
      ]
    }
  ],
  "metadata": {
    "accelerator": "GPU",
    "colab": {
      "gpuType": "T4",
      "provenance": [],
      "authorship_tag": "ABX9TyNRUDVv9capq3rjxNi7m4Hs",
      "include_colab_link": true
    },
    "kernelspec": {
      "display_name": "Python 3",
      "name": "python3"
    },
    "language_info": {
      "name": "python"
    }
  },
  "nbformat": 4,
  "nbformat_minor": 0
}